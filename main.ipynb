{
 "cells": [
  {
   "cell_type": "code",
   "id": "initial_id",
   "metadata": {
    "collapsed": true,
    "ExecuteTime": {
     "end_time": "2024-11-10T15:44:20.880964Z",
     "start_time": "2024-11-10T15:44:20.876684Z"
    }
   },
   "source": "import requests",
   "outputs": [],
   "execution_count": 25
  },
  {
   "metadata": {
    "ExecuteTime": {
     "end_time": "2024-11-10T15:18:16.954506Z",
     "start_time": "2024-11-10T15:18:16.951404Z"
    }
   },
   "cell_type": "code",
   "source": [
    "url = 'https://mws-api.sdccd.edu/?term=2253career=ugrd&_=1730965648722'\n",
    "data = None"
   ],
   "id": "4eaabd5e8f294ac0",
   "outputs": [],
   "execution_count": 2
  },
  {
   "metadata": {
    "ExecuteTime": {
     "end_time": "2024-11-10T15:18:16.963759Z",
     "start_time": "2024-11-10T15:18:16.955512Z"
    }
   },
   "cell_type": "code",
   "source": [
    "def get_data():\n",
    "    try:\n",
    "        response = requests.get(url, verify=False)\n",
    "        if response.status_code == 200:\n",
    "            global data\n",
    "            data = response.json()\n",
    "            print('Success')\n",
    "        else:\n",
    "            print(f\"Error: {response.status_code}\")\n",
    "    except requests.RequestException as e:\n",
    "        print(f\"Error: {e}\")"
   ],
   "id": "4871022f3e1a883a",
   "outputs": [],
   "execution_count": 3
  },
  {
   "metadata": {
    "ExecuteTime": {
     "end_time": "2024-11-10T15:18:22.591197Z",
     "start_time": "2024-11-10T15:18:16.964768Z"
    }
   },
   "cell_type": "code",
   "source": "get_data()",
   "id": "8a946969f42785ea",
   "outputs": [
    {
     "name": "stderr",
     "output_type": "stream",
     "text": [
      "C:\\Users\\skypi\\AppData\\Local\\Programs\\Python\\Python312\\Lib\\site-packages\\urllib3\\connectionpool.py:1099: InsecureRequestWarning: Unverified HTTPS request is being made to host 'mws-api.sdccd.edu'. Adding certificate verification is strongly advised. See: https://urllib3.readthedocs.io/en/latest/advanced-usage.html#tls-warnings\n",
      "  warnings.warn(\n"
     ]
    },
    {
     "name": "stdout",
     "output_type": "stream",
     "text": [
      "Success\n"
     ]
    }
   ],
   "execution_count": 4
  },
  {
   "metadata": {
    "ExecuteTime": {
     "end_time": "2024-11-10T15:54:26.930695Z",
     "start_time": "2024-11-10T15:54:26.927435Z"
    }
   },
   "cell_type": "code",
   "source": [
    "course_num = [3398, 3400, 3127, 3121]\n",
    "course_id = [81851, 82243, 81294, 81299]\n",
    "watchlist = []"
   ],
   "id": "677c68e09a52b486",
   "outputs": [],
   "execution_count": 35
  },
  {
   "metadata": {
    "ExecuteTime": {
     "end_time": "2024-11-10T15:18:22.604652Z",
     "start_time": "2024-11-10T15:18:22.596418Z"
    }
   },
   "cell_type": "code",
   "source": [
    "for i in course_num:\n",
    "    watchlist.append((data[\"data\"]['query']['rows'][i]['COURSENAME'], data[\"data\"]['query']['rows'][i]['DAYS'],\n",
    "           data[\"data\"]['query']['rows'][i]['TRUEOPEN'], \"Waitlist\", data[\"data\"]['query']['rows'][i]['WAIT_TOT']))"
   ],
   "id": "79d08122ac630250",
   "outputs": [],
   "execution_count": 6
  },
  {
   "metadata": {
    "ExecuteTime": {
     "end_time": "2024-11-10T15:18:22.615320Z",
     "start_time": "2024-11-10T15:18:22.605656Z"
    }
   },
   "cell_type": "code",
   "source": "watchlist",
   "id": "dcb5df779903db14",
   "outputs": [
    {
     "data": {
      "text/plain": [
       "[('PHYS 197 Waves,Optics,Modern Physics (81853)', 'M', 1, 'Waitlist', 0),\n",
       " ('POLI 101 Intro to Political Science (85037)', '', 35, 'Waitlist', 0),\n",
       " ('MEDA 84 Phlebotomy (82275)', 'T Th', 11, 'Waitlist', 0),\n",
       " ('MATH 254 Intro to Linear Algebra (81297)', 'T Th', 12, 'Waitlist', 0)]"
      ]
     },
     "execution_count": 7,
     "metadata": {},
     "output_type": "execute_result"
    }
   ],
   "execution_count": 7
  },
  {
   "metadata": {
    "ExecuteTime": {
     "end_time": "2024-11-10T15:50:44.424248Z",
     "start_time": "2024-11-10T15:50:44.418169Z"
    }
   },
   "cell_type": "code",
   "source": "data['data']['query']['rows'][0]",
   "id": "4f72b3ee725da452",
   "outputs": [
    {
     "data": {
      "text/plain": [
       "{'attr:rownumber': 1,\n",
       " 'CAMPUS': 'CITY',\n",
       " 'STRM': '2253',\n",
       " 'COLLEGE': 'city',\n",
       " 'SUBJECT': 'ACCT',\n",
       " 'CATALOG_NBR': ' 102',\n",
       " 'CRSE_NAME': 'Basic Accounting',\n",
       " 'CLASS_NBR': 80128,\n",
       " 'ENRL_STAT': 'O',\n",
       " 'CONSENT': 'N',\n",
       " 'ENRL_TOT': 4,\n",
       " 'ENRL_CAP': 40,\n",
       " 'WAIT_TOT': 0,\n",
       " 'WAIT_CAP': 5,\n",
       " 'SEATS': '36',\n",
       " 'ROOM': 'City BT-310',\n",
       " 'CRSE_TYPE': 'On Campus',\n",
       " 'STARTTIME': '11:10 AM',\n",
       " 'ENDTIME': '1:10 PM',\n",
       " 'DAYS': 'T Th',\n",
       " 'CLSNOTES': '',\n",
       " 'CRSEDESCR': 'This course is a study of the theory and practice of the accounting process. Emphasis is placed on accounting transactions and bookkeeping. Topics include business documents; journals and ledgers; opening, adjusting and closing entries; and payroll. This course is intended for students interested in a practical approach to accounting. It can be used as preparation for the Certified Public Accountant (CPA) exam.',\n",
       " 'START_DATE': '03/03/2025',\n",
       " 'END_DATE': '06/02/2025',\n",
       " 'SESSION_CODE': '12E',\n",
       " 'RQMNT': '',\n",
       " 'UNITS': ' 3.0',\n",
       " 'ADD_DEADLINE': '03/17/2025',\n",
       " 'DROP_DEADLINE': '03/17/2025',\n",
       " 'WITH_DEADLINE': '04/28/2025',\n",
       " 'PNP_DEADLINE': 'None',\n",
       " 'REFUND': '03/13/2025',\n",
       " 'GRADING': 'GRD',\n",
       " 'BOOKSTATUS': 'NONE',\n",
       " 'COURSENAME': 'ACCT 102 Basic Accounting (80128)',\n",
       " 'NAME': 'Carr,Shana',\n",
       " 'CREDIT_STATUS': 'D',\n",
       " 'CRSE_TRANSFER': 'B',\n",
       " 'LOCATION': 'ONCAMPUS',\n",
       " 'CRSEREQ': 'NONE',\n",
       " 'TERMDESCR': 'Spring 2025',\n",
       " 'BOOKTERM': 'SPRING+2025',\n",
       " 'EMAIL_ADDR': 'scarr@sdccd.edu',\n",
       " 'CLSNAME': 'ACCT 102 - 3.0 Units',\n",
       " 'TRUEENROLL': 4,\n",
       " 'TRUEOPEN': 36,\n",
       " 'IPEX': '',\n",
       " 'CLASS_MTG_NBR': 1,\n",
       " 'CRSE_ID': '006553',\n",
       " 'COLNAME': 'City College',\n",
       " 'INTERSESSION': 'N',\n",
       " 'DAYEVE': 'Day',\n",
       " 'LEAF': '',\n",
       " 'WBL': '',\n",
       " 'LINKCLASSNAME': '',\n",
       " 'LINKCLASSNBR': '',\n",
       " 'LINKDESCR': '',\n",
       " 'LINK': '',\n",
       " 'LINKTITLE': 'Basic Accounting',\n",
       " 'LINKDAY': '',\n",
       " 'LINKROOM': '',\n",
       " 'LINKSTART': '',\n",
       " 'LINKEND': '',\n",
       " 'CRSE': 'ACCT 102',\n",
       " 'LINKCRSE': '',\n",
       " 'LINKLOC': '',\n",
       " 'DGECODE': '',\n",
       " 'CSGECODE': '',\n",
       " 'IGETCODE': '',\n",
       " 'WBLCODE': '',\n",
       " 'LINKLOCATION': ''}"
      ]
     },
     "execution_count": 32,
     "metadata": {},
     "output_type": "execute_result"
    }
   ],
   "execution_count": 32
  },
  {
   "metadata": {
    "ExecuteTime": {
     "end_time": "2024-11-10T15:52:35.082578Z",
     "start_time": "2024-11-10T15:52:35.078630Z"
    }
   },
   "cell_type": "code",
   "source": [
    "def get_row_number(data_list, class_num):\n",
    "    rows = data_list['data']['query']['rows']\n",
    "    for entry in rows:\n",
    "        if entry.get(\"CLASS_NBR\") == class_num:\n",
    "            return entry.get('attr:rownumber')\n",
    "    return None"
   ],
   "id": "c8527639e2139012",
   "outputs": [],
   "execution_count": 33
  },
  {
   "metadata": {
    "ExecuteTime": {
     "end_time": "2024-11-10T15:54:46.756583Z",
     "start_time": "2024-11-10T15:54:46.748046Z"
    }
   },
   "cell_type": "code",
   "source": [
    "for item in course_id:\n",
    "    print(get_row_number(data, item))"
   ],
   "id": "45cc669b5336cdba",
   "outputs": [
    {
     "name": "stdout",
     "output_type": "stream",
     "text": [
      "3393\n",
      "3395\n",
      "3117\n",
      "3123\n"
     ]
    }
   ],
   "execution_count": 36
  },
  {
   "metadata": {
    "ExecuteTime": {
     "end_time": "2024-11-10T16:00:28.539518Z",
     "start_time": "2024-11-10T16:00:28.535285Z"
    }
   },
   "cell_type": "code",
   "source": [
    "def test(course_list):\n",
    "    # data_list = get_data()\n",
    "    data_list = data\n",
    "    watchlist = []\n",
    "    for course_num in course_list:\n",
    "        row = get_row_number(data_list, course_num) - 1\n",
    "        list_item = {\n",
    "            data_list['data']['query']['rows'][row]['COURSENAME']: {\n",
    "                'DAYS': data_list['data']['query']['rows'][row]['DAYS'],\n",
    "                'OPEN SEATS': data_list['data']['query']['rows'][row]['TRUEOPEN'],\n",
    "                'WAITLIST': data_list['data']['query']['rows'][row]['WAIT_TOT'],\n",
    "                'WAITLIST CAP': data_list['data']['query']['rows'][row]['WAIT_CAP'],\n",
    "                'PROFESSOR': data_list['data']['query']['rows'][row]['NAME'],\n",
    "            }\n",
    "        }\n",
    "        watchlist.append(list_item)\n",
    "    return watchlist"
   ],
   "id": "edbd8f855d812751",
   "outputs": [],
   "execution_count": 40
  },
  {
   "metadata": {
    "ExecuteTime": {
     "end_time": "2024-11-15T09:40:24.352425Z",
     "start_time": "2024-11-15T09:40:24.106925Z"
    }
   },
   "cell_type": "code",
   "source": "print(test(course_id))",
   "id": "a270fc94f73d52e1",
   "outputs": [
    {
     "ename": "NameError",
     "evalue": "name 'test' is not defined",
     "output_type": "error",
     "traceback": [
      "\u001B[1;31m---------------------------------------------------------------------------\u001B[0m",
      "\u001B[1;31mNameError\u001B[0m                                 Traceback (most recent call last)",
      "Cell \u001B[1;32mIn[1], line 1\u001B[0m\n\u001B[1;32m----> 1\u001B[0m \u001B[38;5;28mprint\u001B[39m(\u001B[43mtest\u001B[49m(course_id))\n",
      "\u001B[1;31mNameError\u001B[0m: name 'test' is not defined"
     ]
    }
   ],
   "execution_count": 1
  }
 ],
 "metadata": {
  "kernelspec": {
   "display_name": "Python 3",
   "language": "python",
   "name": "python3"
  },
  "language_info": {
   "codemirror_mode": {
    "name": "ipython",
    "version": 2
   },
   "file_extension": ".py",
   "mimetype": "text/x-python",
   "name": "python",
   "nbconvert_exporter": "python",
   "pygments_lexer": "ipython2",
   "version": "2.7.6"
  }
 },
 "nbformat": 4,
 "nbformat_minor": 5
}

{
 "cells": [
  {
   "cell_type": "code",
   "id": "initial_id",
   "metadata": {
    "collapsed": true,
    "ExecuteTime": {
     "end_time": "2024-11-07T08:50:21.837763Z",
     "start_time": "2024-11-07T08:50:21.834655Z"
    }
   },
   "source": "import requests",
   "outputs": [],
   "execution_count": 65
  },
  {
   "metadata": {
    "ExecuteTime": {
     "end_time": "2024-11-07T08:50:21.846339Z",
     "start_time": "2024-11-07T08:50:21.838774Z"
    }
   },
   "cell_type": "code",
   "source": [
    "url = 'https://mws-api.sdccd.edu/?term=2253career=ugrd&_=1730965648722'\n",
    "data = None"
   ],
   "id": "4eaabd5e8f294ac0",
   "outputs": [],
   "execution_count": 66
  },
  {
   "metadata": {
    "ExecuteTime": {
     "end_time": "2024-11-07T08:50:21.854439Z",
     "start_time": "2024-11-07T08:50:21.847345Z"
    }
   },
   "cell_type": "code",
   "source": [
    "def get_data():\n",
    "    try:\n",
    "        response = requests.get(url, verify=False)\n",
    "        if response.status_code == 200:\n",
    "            global data\n",
    "            data = response.json()\n",
    "            print('Success')\n",
    "        else:\n",
    "            print(f\"Error: {response.status_code}\")\n",
    "    except requests.RequestException as e:\n",
    "        print(f\"Error: {e}\")"
   ],
   "id": "4871022f3e1a883a",
   "outputs": [],
   "execution_count": 67
  },
  {
   "metadata": {
    "ExecuteTime": {
     "end_time": "2024-11-07T08:50:27.558113Z",
     "start_time": "2024-11-07T08:50:21.855443Z"
    }
   },
   "cell_type": "code",
   "source": "get_data()",
   "id": "8a946969f42785ea",
   "outputs": [
    {
     "name": "stderr",
     "output_type": "stream",
     "text": [
      "C:\\Users\\skypi\\OneDrive\\Documents\\PythonCode\\Class Checker\\.venv\\Lib\\site-packages\\urllib3\\connectionpool.py:1099: InsecureRequestWarning: Unverified HTTPS request is being made to host 'mws-api.sdccd.edu'. Adding certificate verification is strongly advised. See: https://urllib3.readthedocs.io/en/latest/advanced-usage.html#tls-warnings\n",
      "  warnings.warn(\n"
     ]
    },
    {
     "name": "stdout",
     "output_type": "stream",
     "text": [
      "Success\n"
     ]
    }
   ],
   "execution_count": 68
  },
  {
   "metadata": {
    "ExecuteTime": {
     "end_time": "2024-11-07T08:51:13.589016Z",
     "start_time": "2024-11-07T08:51:13.586471Z"
    }
   },
   "cell_type": "code",
   "source": [
    "course_num = [3398, 3400, 3127, 3121]\n",
    "watchlist = []"
   ],
   "id": "677c68e09a52b486",
   "outputs": [],
   "execution_count": 77
  },
  {
   "metadata": {
    "ExecuteTime": {
     "end_time": "2024-11-07T08:51:15.587678Z",
     "start_time": "2024-11-07T08:51:15.583947Z"
    }
   },
   "cell_type": "code",
   "source": [
    "for i in course_num:\n",
    "    watchlist.append((data[\"data\"]['query']['rows'][i]['COURSENAME'], data[\"data\"]['query']['rows'][i]['DAYS'],\n",
    "           data[\"data\"]['query']['rows'][i]['TRUEOPEN'], \"Waitlist\", data[\"data\"]['query']['rows'][i]['WAIT_TOT']))"
   ],
   "id": "79d08122ac630250",
   "outputs": [],
   "execution_count": 78
  },
  {
   "metadata": {
    "ExecuteTime": {
     "end_time": "2024-11-07T08:51:16.769981Z",
     "start_time": "2024-11-07T08:51:16.765272Z"
    }
   },
   "cell_type": "code",
   "source": "watchlist",
   "id": "dcb5df779903db14",
   "outputs": [
    {
     "data": {
      "text/plain": [
       "[('PHYS 196 Electricity and Magnetism (81851)', 'M', 11, 'Waitlist', 0),\n",
       " ('PHYS 196 Electricity and Magnetism (82243)', 'W', 19, 'Waitlist', 0),\n",
       " ('MATH 255 Differential Equations (81299)', 'T Th', 16, 'Waitlist', 0),\n",
       " ('MATH 245 Discrete Mathematics (81294)', 'M W', 17, 'Waitlist', 0)]"
      ]
     },
     "execution_count": 79,
     "metadata": {},
     "output_type": "execute_result"
    }
   ],
   "execution_count": 79
  }
 ],
 "metadata": {
  "kernelspec": {
   "display_name": "Python 3",
   "language": "python",
   "name": "python3"
  },
  "language_info": {
   "codemirror_mode": {
    "name": "ipython",
    "version": 2
   },
   "file_extension": ".py",
   "mimetype": "text/x-python",
   "name": "python",
   "nbconvert_exporter": "python",
   "pygments_lexer": "ipython2",
   "version": "2.7.6"
  }
 },
 "nbformat": 4,
 "nbformat_minor": 5
}
